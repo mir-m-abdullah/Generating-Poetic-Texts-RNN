{
 "cells": [
  {
   "cell_type": "code",
   "execution_count": null,
   "metadata": {},
   "outputs": [],
   "source": [
    "%pip install tensorflow"
   ]
  },
  {
   "cell_type": "code",
   "execution_count": 8,
   "metadata": {},
   "outputs": [],
   "source": [
    "import random\n",
    "import numpy as np\n",
    "import tensorflow as tf\n",
    "from tensorflow.keras.models import Sequential\n",
    "from tensorflow.keras.layers import Dense, Dropout, LSTM\n",
    "from tensorflow.keras.optimizers import RMSprop\n",
    "from keras.layers import Activation\n",
    "\n",
    "\n",
    "\n"
   ]
  },
  {
   "cell_type": "code",
   "execution_count": 2,
   "metadata": {},
   "outputs": [],
   "source": [
    "filepath = tf.keras.utils.get_file('shakespeare.txt', 'https://storage.googleapis.com/download.tensorflow.org/data/shakespeare.txt')\n",
    "text = open(filepath, 'rb').read().decode(encoding='utf-8').lower()"
   ]
  },
  {
   "cell_type": "code",
   "execution_count": 3,
   "metadata": {},
   "outputs": [],
   "source": [
    "text = text[300000:800000]\n",
    "characters = sorted(set(text))\n",
    "char_to_int = dict((c, i) for i, c in enumerate(characters))\n",
    "int_to_char = dict((i, c) for i, c in enumerate(characters))"
   ]
  },
  {
   "cell_type": "code",
   "execution_count": 4,
   "metadata": {},
   "outputs": [],
   "source": [
    "SEQ_LENGTH = 50\n",
    "STEP_SIZE = 3"
   ]
  },
  {
   "cell_type": "code",
   "execution_count": null,
   "metadata": {},
   "outputs": [],
   "source": [
    "'''\n",
    "sentences = []\n",
    "next_chars = []\n",
    "\n",
    "for i in range(0, len(text) - SEQ_LENGTH, STEP_SIZE):\n",
    "    sentences.append(text[i: i + SEQ_LENGTH])\n",
    "    next_chars.append(text[i + SEQ_LENGTH])\n",
    "'''"
   ]
  },
  {
   "cell_type": "code",
   "execution_count": 5,
   "metadata": {},
   "outputs": [],
   "source": [
    "'''\n",
    "x = np.zeros((len(sentences), SEQ_LENGTH, len(characters)))\n",
    "if x.size == 0:\n",
    "    raise ValueError(\"x is empty\")\n",
    "\n",
    "y = np.zeros((len(sentences), len(characters)))\n",
    "if y.size == 0:\n",
    "    raise ValueError(\"y is empty\")\n",
    "'''"
   ]
  },
  {
   "cell_type": "code",
   "execution_count": 6,
   "metadata": {},
   "outputs": [],
   "source": [
    "'''\n",
    "for i, sentence in enumerate(sentences):\n",
    "    for t, character in enumerate(sentence):\n",
    "            x[i, t, char_to_int[character]] = 1\n",
    "    y[i, char_to_int[next_chars[i]]] = 1\n",
    "'''"
   ]
  },
  {
   "cell_type": "code",
   "execution_count": 9,
   "metadata": {},
   "outputs": [],
   "source": [
    "'''\n",
    "model = Sequential()\n",
    "model.add(LSTM(128, input_shape=(SEQ_LENGTH, len(characters))))\n",
    "model.add(Dense(len(characters)))\n",
    "model.add(Activation('softmax'))\n",
    "'''"
   ]
  },
  {
   "cell_type": "code",
   "execution_count": 10,
   "metadata": {},
   "outputs": [
    {
     "name": "stdout",
     "output_type": "stream",
     "text": [
      "Epoch 1/4\n",
      "WARNING:tensorflow:From e:\\Machine Learning\\.conda\\Lib\\site-packages\\keras\\src\\utils\\tf_utils.py:492: The name tf.ragged.RaggedTensorValue is deprecated. Please use tf.compat.v1.ragged.RaggedTensorValue instead.\n",
      "\n",
      "651/651 [==============================] - 38s 53ms/step - loss: 2.1540\n",
      "Epoch 2/4\n",
      "651/651 [==============================] - 33s 51ms/step - loss: 1.7227\n",
      "Epoch 3/4\n",
      "651/651 [==============================] - 33s 51ms/step - loss: 1.5955\n",
      "Epoch 4/4\n",
      "651/651 [==============================] - 33s 50ms/step - loss: 1.5282\n"
     ]
    },
    {
     "data": {
      "text/plain": [
       "<keras.src.callbacks.History at 0x1f20493e010>"
      ]
     },
     "execution_count": 10,
     "metadata": {},
     "output_type": "execute_result"
    }
   ],
   "source": [
    "'''\n",
    "model.compile(loss='categorical_crossentropy', optimizer=RMSprop(learning_rate=0.01),)\n",
    "model.fit(x, y, batch_size=256, epochs=4)\n",
    "'''"
   ]
  },
  {
   "cell_type": "code",
   "execution_count": 11,
   "metadata": {},
   "outputs": [
    {
     "name": "stdout",
     "output_type": "stream",
     "text": [
      "INFO:tensorflow:Assets written to: textgenerator.model\\assets\n"
     ]
    },
    {
     "name": "stderr",
     "output_type": "stream",
     "text": [
      "INFO:tensorflow:Assets written to: textgenerator.model\\assets\n"
     ]
    }
   ],
   "source": [
    "'''\n",
    "model.save('textgenerator.model')\n",
    "'''"
   ]
  },
  {
   "cell_type": "code",
   "execution_count": 12,
   "metadata": {},
   "outputs": [
    {
     "name": "stdout",
     "output_type": "stream",
     "text": [
      "WARNING:tensorflow:From e:\\Machine Learning\\.conda\\Lib\\site-packages\\keras\\src\\saving\\legacy\\saved_model\\load.py:107: The name tf.gfile.Exists is deprecated. Please use tf.io.gfile.exists instead.\n",
      "\n"
     ]
    },
    {
     "name": "stderr",
     "output_type": "stream",
     "text": [
      "WARNING:tensorflow:From e:\\Machine Learning\\.conda\\Lib\\site-packages\\keras\\src\\saving\\legacy\\saved_model\\load.py:107: The name tf.gfile.Exists is deprecated. Please use tf.io.gfile.exists instead.\n",
      "\n"
     ]
    }
   ],
   "source": [
    "model = tf.keras.models.load_model('textgenerator.model')"
   ]
  },
  {
   "cell_type": "code",
   "execution_count": 13,
   "metadata": {},
   "outputs": [],
   "source": [
    "def sample(preds, temperature=1.0):\n",
    "    preds = np.asarray(preds).astype('float64')\n",
    "    preds = np.log(preds) / temperature\n",
    "    exp_preds = np.exp(preds)\n",
    "    preds = exp_preds / np.sum(exp_preds)\n",
    "    probas = np.random.multinomial(1, preds, 1)\n",
    "    return np.argmax(probas)"
   ]
  },
  {
   "cell_type": "code",
   "execution_count": 14,
   "metadata": {},
   "outputs": [],
   "source": [
    "import random\n",
    "def generate_text(length, temperature):\n",
    "    start_index = random.randint(0, len(text) - SEQ_LENGTH - 1)\n",
    "    generated = ''\n",
    "    sentence = text[start_index: start_index + SEQ_LENGTH]\n",
    "    generated += sentence\n",
    "    for i in range(length):\n",
    "        x = np.zeros((1, SEQ_LENGTH, len(characters)))\n",
    "        for t, char in enumerate(sentence):\n",
    "            x[0, t, char_to_int[char]] = 1\n",
    "\n",
    "        predictions = model.predict(x, verbose=0)[0]\n",
    "        next_index = sample(predictions, temperature)\n",
    "        next_char = int_to_char[next_index]\n",
    "\n",
    "        generated += next_char\n",
    "        sentence = sentence[1:] + next_char\n",
    "    return generated"
   ]
  },
  {
   "cell_type": "code",
   "execution_count": 17,
   "metadata": {},
   "outputs": [
    {
     "name": "stdout",
     "output_type": "stream",
     "text": [
      "-------0.2-------\n",
      " of your advice: the matter,\n",
      "the loss, the gain, that shall be the more of the moness,\n",
      "and that there is the fair to my love, and the way\n",
      "to consent in the father with and the fair,\n",
      "that seat the suns the last and the sun,\n",
      "whils the hand the suns and the confess of my fair\n",
      "to my lord, i was it from the sea the changed,\n",
      "but shall not the stand the f\n",
      "-------0.4-------\n",
      "knight should violate!--\n",
      "both to defend my loyalty friends comes\n",
      "to my friends are not shall be make in the soul,\n",
      "that so that the heart in the sun, and your mean,\n",
      "the soul an in the should still not seep,\n",
      "you say in the comfort not with an our son,\n",
      "that say is the king and in a than the men.\n",
      "\n",
      "clifford:\n",
      "i was that come in the soul of these inters,\n",
      "\n",
      "-------0.6-------\n",
      "ie with thee!\n",
      "help, help! call help.\n",
      "\n",
      "capulet:\n",
      "for what i pard way in the faces to the king son,\n",
      "and with my grouns crick; and serve in my fair?\n",
      "\n",
      "king edward iv:\n",
      "now, and our time i thy house to fairs\n",
      "with her torn in the person ear, and sweet,\n",
      "but romeo, what is i be to me for this night\n",
      "in the his hand dear banishmens will i you.\n",
      "\n",
      "foraled:\n",
      "why is\n",
      "-------0.8-------\n",
      "amed to wear a crown,\n",
      "his hand to wield a sceptre, i what a sor\n",
      "is much to the ground not make thee, 'tweart.\n",
      "\n",
      "juliet:\n",
      "though so than i will you his honourale's sold;\n",
      "and hore words? my nire!\n",
      "\n",
      "romeo:\n",
      "thanking break a will an the fairst that words be that\n",
      "that set i know ut ones intay of your love,\n",
      "consentern so in; no so way and stabless\n",
      "his gentle\n",
      "-------1.0-------\n",
      " lord?\n",
      "\n",
      "mamillius:\n",
      "you'll kiss me hard and speak to hool:\n",
      "by that in to-mine full like and the joy,\n",
      "seat thou htst same edward. thou cake our roubred:\n",
      "\n",
      "lady capulet:\n",
      "not mo tabe my is deady to prear; why be,\n",
      "be tork it ond hall fated thee.\n",
      "\n",
      "king edwird iv:\n",
      "here ssabley connortond kninory.\n",
      "\n",
      "first suck\n",
      "years\n",
      "\n",
      "mercutios:\n",
      "let not fatience eye and his w\n"
     ]
    }
   ],
   "source": [
    "print('-------0.2-------')\n",
    "print(generate_text(300, 0.2))\n",
    "print('-------0.4-------')\n",
    "print(generate_text(300, 0.4))\n",
    "print('-------0.6-------')\n",
    "print(generate_text(300, 0.6))\n",
    "print('-------0.8-------')\n",
    "print(generate_text(300, 0.8))\n",
    "print('-------1.0-------')\n",
    "print(generate_text(300, 1.0))"
   ]
  }
 ],
 "metadata": {
  "kernelspec": {
   "display_name": "Python 3",
   "language": "python",
   "name": "python3"
  },
  "language_info": {
   "codemirror_mode": {
    "name": "ipython",
    "version": 3
   },
   "file_extension": ".py",
   "mimetype": "text/x-python",
   "name": "python",
   "nbconvert_exporter": "python",
   "pygments_lexer": "ipython3",
   "version": "3.11.7"
  }
 },
 "nbformat": 4,
 "nbformat_minor": 2
}
